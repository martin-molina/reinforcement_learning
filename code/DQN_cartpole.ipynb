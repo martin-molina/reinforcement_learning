{
  "nbformat": 4,
  "nbformat_minor": 0,
  "metadata": {
    "colab": {
      "name": "Example DQN Cartpole (dado a alumnos).ipynb",
      "provenance": []
    },
    "kernelspec": {
      "name": "python3",
      "display_name": "Python 3"
    },
    "accelerator": "TPU"
  },
  "cells": [
    {
      "cell_type": "markdown",
      "metadata": {
        "id": "8TT3LPGc5PuK"
      },
      "source": [
        "\n",
        "\n",
        "<p><img height=\"80px\" src=\"https://www.upm.es/sfs/Rectorado/Gabinete%20del%20Rector/Logos/UPM/Escudo/EscUpm.jpg\" align=\"left\" hspace=\"0px\" vspace=\"0px\"></p>\n",
        "\n",
        "**Course \"Artificial Neural Networks and Deep Learning\" - Universidad Politécnica de Madrid (UPM)**\n",
        "\n",
        "# **Deep Q-Learning for Cartpole**\n",
        "\n",
        "This notebook includes an implementation of the Deep Q-learning (DQN) algorithm for the cartpole problem (see [OpenAI's Cartpole](https://gym.openai.com/envs/CartPole-v1/)).\n"
      ]
    },
    {
      "cell_type": "markdown",
      "metadata": {
        "id": "JXBzOdaLAEUn"
      },
      "source": [
        "##Libraries"
      ]
    },
    {
      "cell_type": "code",
      "metadata": {
        "id": "LjLS1WetFhCE"
      },
      "source": [
        "import gym\n",
        "import numpy as np\n",
        "from tensorflow import keras\n",
        "import matplotlib.pyplot as plt\n",
        "import time\n",
        "import random"
      ],
      "execution_count": null,
      "outputs": []
    },
    {
      "cell_type": "markdown",
      "metadata": {
        "id": "nBrRuhN1AQ-s"
      },
      "source": [
        "## Hyperparameters"
      ]
    },
    {
      "cell_type": "code",
      "metadata": {
        "id": "4N2yVwtuFlBu"
      },
      "source": [
        "GAMMA = 0.99\n",
        "MEMORY_SIZE = 100000\n",
        "LEARNING_RATE = 0.001\n",
        "BATCH_SIZE = 32\n",
        "EXPLORATION_MAX = 1\n",
        "EXPLORATION_MIN = 0.01\n",
        "EXPLORATION_DECAY = 0.995\n",
        "NUMBER_OF_EPISODES = 300\n",
        "MAX_STEPS = 200"
      ],
      "execution_count": null,
      "outputs": []
    },
    {
      "cell_type": "markdown",
      "metadata": {
        "id": "OoGaas6TAd6p"
      },
      "source": [
        "## Class ReplayMemory\n",
        "\n",
        "Memory of transitions for experience replay."
      ]
    },
    {
      "cell_type": "code",
      "metadata": {
        "id": "cQV7IfhFOoSh"
      },
      "source": [
        "class ReplayMemory:\n",
        "\n",
        "    def __init__(self,number_of_observations):\n",
        "        # Create replay memory\n",
        "        self.states = np.zeros((MEMORY_SIZE, number_of_observations))\n",
        "        self.states_next = np.zeros((MEMORY_SIZE, number_of_observations))\n",
        "        self.actions = np.zeros(MEMORY_SIZE, dtype=np.int32)\n",
        "        self.rewards = np.zeros(MEMORY_SIZE)\n",
        "        self.terminal_states = np.zeros(MEMORY_SIZE, dtype=bool)\n",
        "        self.current_size=0\n",
        "\n",
        "    def store_transition(self, state, action, reward, state_next, terminal_state):\n",
        "        # Store a transition (s,a,r,s') in the replay memory\n",
        "        i = self.current_size\n",
        "        self.states[i] = state\n",
        "        self.states_next[i] = state_next\n",
        "        self.actions[i] = action\n",
        "        self.rewards[i] = reward\n",
        "        self.terminal_states[i] = terminal_state\n",
        "        self.current_size = i + 1\n",
        "\n",
        "    def sample_memory(self, batch_size):\n",
        "        # Generate a sample of transitions from the replay memory\n",
        "        batch = np.random.choice(self.current_size, batch_size)\n",
        "        states = self.states[batch]\n",
        "        states_next = self.states_next[batch]\n",
        "        rewards = self.rewards[batch]\n",
        "        actions = self.actions[batch]   \n",
        "        terminal_states = self.terminal_states[batch]  \n",
        "        return states, actions, rewards, states_next, terminal_states"
      ],
      "execution_count": null,
      "outputs": []
    },
    {
      "cell_type": "markdown",
      "metadata": {
        "id": "gejKO0OYAsS4"
      },
      "source": [
        "## Class DQN\n",
        "\n",
        "Reinforcement learning agent with a Deep Q-Network."
      ]
    },
    {
      "cell_type": "code",
      "metadata": {
        "id": "NZ6P4Gj0FtnU"
      },
      "source": [
        "class DQN:\n",
        "\n",
        "    def __init__(self, number_of_observations, number_of_actions):\n",
        "        # Initialize variables and create neural model\n",
        "        self.exploration_rate = EXPLORATION_MAX\n",
        "        self.number_of_actions = number_of_actions\n",
        "        self.number_of_observations = number_of_observations\n",
        "        self.scores = []\n",
        "        self.memory = ReplayMemory(number_of_observations)\n",
        "        self.model = keras.models.Sequential()\n",
        "        self.model.add(keras.layers.Dense(24, input_shape=(number_of_observations,), \\\n",
        "                             activation=\"relu\",kernel_initializer=\"he_normal\"))\n",
        "        self.model.add(keras.layers.Dense(24, activation=\"relu\",kernel_initializer=\"he_normal\"))\n",
        "        self.model.add(keras.layers.Dense(number_of_actions, activation=\"linear\"))\n",
        "        self.model.compile(loss=\"mse\", optimizer=keras.optimizers.Adam(learning_rate=LEARNING_RATE))\n",
        "\n",
        "    def remember(self, state, action, reward, next_state, terminal_state):\n",
        "        # Store a tuple (s, a, r, s') for experience replay\n",
        "        state = np.reshape(state, [1, self.number_of_observations])\n",
        "        next_state = np.reshape(next_state, [1, self.number_of_observations])\n",
        "        self.memory.store_transition(state, action, reward, next_state, terminal_state)\n",
        "\n",
        "    def select(self, state):\n",
        "        # Generate an action for a given state using epsilon-greedy policy\n",
        "        if np.random.rand() < self.exploration_rate:\n",
        "            return random.randrange(self.number_of_actions)\n",
        "        else:\n",
        "            state = np.reshape(state, [1, self.number_of_observations])\n",
        "            q_values = self.model.predict(state)\n",
        "            return np.argmax(q_values[0])\n",
        "\n",
        "    def learn(self):\n",
        "        # Learn the value Q using a sample of examples from the replay memory\n",
        "        if self.memory.current_size < BATCH_SIZE: return\n",
        "\n",
        "        states, actions, rewards, next_states, terminal_states = self.memory.sample_memory(BATCH_SIZE)\n",
        "\n",
        "        q_targets = self.model.predict(states)\n",
        "        q_next_states = self.model.predict(next_states)\n",
        "\n",
        "        for i in range(BATCH_SIZE):\n",
        "             if (terminal_states[i]):\n",
        "                  q_targets[i][actions[i]] = rewards[i]\n",
        "             else:\n",
        "                  q_targets[i][actions[i]] = rewards[i] + GAMMA * np.max(q_next_states[i])    \n",
        "\n",
        "        self.model.train_on_batch(states, q_targets)\n",
        "\n",
        "        # Decrease exploration rate\n",
        "        self.exploration_rate *= EXPLORATION_DECAY\n",
        "        self.exploration_rate = max(EXPLORATION_MIN, self.exploration_rate)\n",
        "\n",
        "    def add_score(self, score):\n",
        "       # Add the obtained score in a list to be presented later\n",
        "        self.scores.append(score)\n",
        "\n",
        "    def display_scores_graphically(self):\n",
        "        # Display the obtained scores graphically\n",
        "        plt.plot(self.scores)\n",
        "        plt.xlabel(\"Episode\")\n",
        "        plt.ylabel(\"Score\")            "
      ],
      "execution_count": null,
      "outputs": []
    },
    {
      "cell_type": "markdown",
      "metadata": {
        "id": "d-YSpziT0K9I"
      },
      "source": [
        "## Environment Cartpole\n",
        "\n",
        "Cartpole simulator from [Open Ai Gym](https://gym.openai.com/envs/CartPole-v1/):\n",
        "\n",
        "<p><img height=\"200px\" src=\"https://raw.githubusercontent.com/martin-molina/reinforcement_learning/main/images/cartpole_attributes.png\" align=\"center\" vspace=\"20px\"</p>\n",
        "\n",
        "State vector:\n",
        "- state[0]: position\n",
        "- state[1]: velocity\n",
        "- state[2]: angle\n",
        "- state[3]: angular velocity\n",
        "\n",
        "Actions:\n",
        "- 0 (push cart to the left)\n",
        "- 1 (push cart to the right)"
      ]
    },
    {
      "cell_type": "code",
      "metadata": {
        "id": "4LBloUSG0LmT"
      },
      "source": [
        "def create_environment():\n",
        "    # Create simulated environment\n",
        "    environment = gym.make(\"CartPole-v1\")\n",
        "    number_of_observations = environment.observation_space.shape[0]\n",
        "    number_of_actions = environment.action_space.n\n",
        "    return environment, number_of_observations, number_of_actions"
      ],
      "execution_count": null,
      "outputs": []
    },
    {
      "cell_type": "markdown",
      "metadata": {
        "id": "hbbw6blhDcsJ"
      },
      "source": [
        "## Main program\n",
        "\n",
        "\n"
      ]
    },
    {
      "cell_type": "code",
      "metadata": {
        "id": "yuzI0m5u5vVf",
        "colab": {
          "base_uri": "https://localhost:8080/",
          "height": 1000
        },
        "outputId": "c741ec8a-fc05-4369-96b4-5bd5347d2e4f"
      },
      "source": [
        "environment, number_of_observations, number_of_actions = create_environment()\n",
        "agent = DQN(number_of_observations, number_of_actions)\n",
        "episode = 0\n",
        "goal_reached = False\n",
        "start_time = time.perf_counter()\n",
        "while (episode < NUMBER_OF_EPISODES) and not (goal_reached):\n",
        "    episode += 1\n",
        "    step = 1\n",
        "    end_episode = False\n",
        "    state = environment.reset()\n",
        "    while not(end_episode):\n",
        "        # Select an action for the current state\n",
        "        action = agent.select(state)\n",
        "\n",
        "        # Execute the action on the environment\n",
        "        state_next, reward, terminal_state, info = environment.step(action)\n",
        "\n",
        "        # Store in memory the transition (s,a,r,s') \n",
        "        agent.remember(state, action, reward, state_next, terminal_state)\n",
        "\n",
        "        # Learn using a batch of experience stored in memory\n",
        "        agent.learn()\n",
        "  \n",
        "        # Detect end of episode\n",
        "        if terminal_state or step >= MAX_STEPS:\n",
        "            agent.add_score(step)\n",
        "            if step >= MAX_STEPS: goal_reached = True\n",
        "            print(\"Episode {0:>3}: \".format(episode), end = '')\n",
        "            print(\"score {0:>3} \".format(step), end = '') \n",
        "            print(\"(exploration rate: %.2f, \" % agent.exploration_rate, end = '')\n",
        "            print(\"transitions: \" + str(agent.memory.current_size) + \")\")\n",
        "            end_episode = True \n",
        "        else:\n",
        "            state = state_next\n",
        "            step += 1\n",
        "\n",
        "if goal_reached: print(\"Reached goal sucessfully.\")\n",
        "else: print(\"Failure to reach the goal.\")\n",
        "\n",
        "print (\"Time:\", round((time.perf_counter() - start_time)/60), \"minutes\")\n",
        "\n",
        "agent.display_scores_graphically()"
      ],
      "execution_count": null,
      "outputs": [
        {
          "output_type": "stream",
          "name": "stdout",
          "text": [
            "Episode   1: score  14 (exploration rate: 1.00, transitions: 14)\n",
            "Episode   2: score  29 (exploration rate: 0.94, transitions: 43)\n",
            "Episode   3: score  13 (exploration rate: 0.88, transitions: 56)\n",
            "Episode   4: score  53 (exploration rate: 0.68, transitions: 109)\n",
            "Episode   5: score  12 (exploration rate: 0.64, transitions: 121)\n",
            "Episode   6: score  21 (exploration rate: 0.57, transitions: 142)\n",
            "Episode   7: score  13 (exploration rate: 0.54, transitions: 155)\n",
            "Episode   8: score  11 (exploration rate: 0.51, transitions: 166)\n",
            "Episode   9: score  11 (exploration rate: 0.48, transitions: 177)\n",
            "Episode  10: score   9 (exploration rate: 0.46, transitions: 186)\n",
            "Episode  11: score   9 (exploration rate: 0.44, transitions: 195)\n",
            "Episode  12: score  11 (exploration rate: 0.42, transitions: 206)\n",
            "Episode  13: score  10 (exploration rate: 0.40, transitions: 216)\n",
            "Episode  14: score  10 (exploration rate: 0.38, transitions: 226)\n",
            "Episode  15: score  13 (exploration rate: 0.35, transitions: 239)\n",
            "Episode  16: score   9 (exploration rate: 0.34, transitions: 248)\n",
            "Episode  17: score  12 (exploration rate: 0.32, transitions: 260)\n",
            "Episode  18: score  13 (exploration rate: 0.30, transitions: 273)\n",
            "Episode  19: score   9 (exploration rate: 0.28, transitions: 282)\n",
            "Episode  20: score  13 (exploration rate: 0.27, transitions: 295)\n",
            "Episode  21: score  10 (exploration rate: 0.25, transitions: 305)\n",
            "Episode  22: score  13 (exploration rate: 0.24, transitions: 318)\n",
            "Episode  23: score   9 (exploration rate: 0.23, transitions: 327)\n",
            "Episode  24: score  10 (exploration rate: 0.22, transitions: 337)\n",
            "Episode  25: score  17 (exploration rate: 0.20, transitions: 354)\n",
            "Episode  26: score  10 (exploration rate: 0.19, transitions: 364)\n",
            "Episode  27: score   9 (exploration rate: 0.18, transitions: 373)\n",
            "Episode  28: score  10 (exploration rate: 0.17, transitions: 383)\n",
            "Episode  29: score  15 (exploration rate: 0.16, transitions: 398)\n",
            "Episode  30: score   9 (exploration rate: 0.15, transitions: 407)\n",
            "Episode  31: score   9 (exploration rate: 0.15, transitions: 416)\n",
            "Episode  32: score  10 (exploration rate: 0.14, transitions: 426)\n",
            "Episode  33: score  11 (exploration rate: 0.13, transitions: 437)\n",
            "Episode  34: score  10 (exploration rate: 0.12, transitions: 447)\n",
            "Episode  35: score  12 (exploration rate: 0.12, transitions: 459)\n",
            "Episode  36: score   8 (exploration rate: 0.11, transitions: 467)\n",
            "Episode  37: score  11 (exploration rate: 0.11, transitions: 478)\n",
            "Episode  38: score   8 (exploration rate: 0.10, transitions: 486)\n",
            "Episode  39: score   9 (exploration rate: 0.10, transitions: 495)\n",
            "Episode  40: score  15 (exploration rate: 0.09, transitions: 510)\n",
            "Episode  41: score   9 (exploration rate: 0.09, transitions: 519)\n",
            "Episode  42: score  12 (exploration rate: 0.08, transitions: 531)\n",
            "Episode  43: score   9 (exploration rate: 0.08, transitions: 540)\n",
            "Episode  44: score   9 (exploration rate: 0.07, transitions: 549)\n",
            "Episode  45: score   8 (exploration rate: 0.07, transitions: 557)\n",
            "Episode  46: score   9 (exploration rate: 0.07, transitions: 566)\n",
            "Episode  47: score   8 (exploration rate: 0.07, transitions: 574)\n",
            "Episode  48: score   9 (exploration rate: 0.06, transitions: 583)\n",
            "Episode  49: score   8 (exploration rate: 0.06, transitions: 591)\n",
            "Episode  50: score   9 (exploration rate: 0.06, transitions: 600)\n",
            "Episode  51: score  10 (exploration rate: 0.05, transitions: 610)\n",
            "Episode  52: score   9 (exploration rate: 0.05, transitions: 619)\n",
            "Episode  53: score  12 (exploration rate: 0.05, transitions: 631)\n",
            "Episode  54: score  11 (exploration rate: 0.05, transitions: 642)\n",
            "Episode  55: score  10 (exploration rate: 0.04, transitions: 652)\n",
            "Episode  56: score  28 (exploration rate: 0.04, transitions: 680)\n",
            "Episode  57: score   9 (exploration rate: 0.04, transitions: 689)\n",
            "Episode  58: score   9 (exploration rate: 0.04, transitions: 698)\n",
            "Episode  59: score  23 (exploration rate: 0.03, transitions: 721)\n",
            "Episode  60: score 136 (exploration rate: 0.02, transitions: 857)\n",
            "Episode  61: score  62 (exploration rate: 0.01, transitions: 919)\n",
            "Episode  62: score  52 (exploration rate: 0.01, transitions: 971)\n",
            "Episode  63: score  18 (exploration rate: 0.01, transitions: 989)\n",
            "Episode  64: score  12 (exploration rate: 0.01, transitions: 1001)\n",
            "Episode  65: score  56 (exploration rate: 0.01, transitions: 1057)\n",
            "Episode  66: score  22 (exploration rate: 0.01, transitions: 1079)\n",
            "Episode  67: score  14 (exploration rate: 0.01, transitions: 1093)\n",
            "Episode  68: score  13 (exploration rate: 0.01, transitions: 1106)\n",
            "Episode  69: score  20 (exploration rate: 0.01, transitions: 1126)\n",
            "Episode  70: score  29 (exploration rate: 0.01, transitions: 1155)\n",
            "Episode  71: score  22 (exploration rate: 0.01, transitions: 1177)\n",
            "Episode  72: score  21 (exploration rate: 0.01, transitions: 1198)\n",
            "Episode  73: score  21 (exploration rate: 0.01, transitions: 1219)\n",
            "Episode  74: score  24 (exploration rate: 0.01, transitions: 1243)\n",
            "Episode  75: score  22 (exploration rate: 0.01, transitions: 1265)\n",
            "Episode  76: score  23 (exploration rate: 0.01, transitions: 1288)\n",
            "Episode  77: score  15 (exploration rate: 0.01, transitions: 1303)\n",
            "Episode  78: score  23 (exploration rate: 0.01, transitions: 1326)\n",
            "Episode  79: score  21 (exploration rate: 0.01, transitions: 1347)\n",
            "Episode  80: score  18 (exploration rate: 0.01, transitions: 1365)\n",
            "Episode  81: score  32 (exploration rate: 0.01, transitions: 1397)\n",
            "Episode  82: score  31 (exploration rate: 0.01, transitions: 1428)\n",
            "Episode  83: score  24 (exploration rate: 0.01, transitions: 1452)\n",
            "Episode  84: score  24 (exploration rate: 0.01, transitions: 1476)\n",
            "Episode  85: score  49 (exploration rate: 0.01, transitions: 1525)\n",
            "Episode  86: score  30 (exploration rate: 0.01, transitions: 1555)\n",
            "Episode  87: score  22 (exploration rate: 0.01, transitions: 1577)\n",
            "Episode  88: score  26 (exploration rate: 0.01, transitions: 1603)\n",
            "Episode  89: score  29 (exploration rate: 0.01, transitions: 1632)\n",
            "Episode  90: score  47 (exploration rate: 0.01, transitions: 1679)\n",
            "Episode  91: score  36 (exploration rate: 0.01, transitions: 1715)\n",
            "Episode  92: score  51 (exploration rate: 0.01, transitions: 1766)\n",
            "Episode  93: score  71 (exploration rate: 0.01, transitions: 1837)\n",
            "Episode  94: score  58 (exploration rate: 0.01, transitions: 1895)\n",
            "Episode  95: score  40 (exploration rate: 0.01, transitions: 1935)\n",
            "Episode  96: score  40 (exploration rate: 0.01, transitions: 1975)\n",
            "Episode  97: score  48 (exploration rate: 0.01, transitions: 2023)\n",
            "Episode  98: score  85 (exploration rate: 0.01, transitions: 2108)\n",
            "Episode  99: score  45 (exploration rate: 0.01, transitions: 2153)\n",
            "Episode 100: score  41 (exploration rate: 0.01, transitions: 2194)\n",
            "Episode 101: score  50 (exploration rate: 0.01, transitions: 2244)\n",
            "Episode 102: score  90 (exploration rate: 0.01, transitions: 2334)\n",
            "Episode 103: score  61 (exploration rate: 0.01, transitions: 2395)\n",
            "Episode 104: score  87 (exploration rate: 0.01, transitions: 2482)\n",
            "Episode 105: score  92 (exploration rate: 0.01, transitions: 2574)\n",
            "Episode 106: score  94 (exploration rate: 0.01, transitions: 2668)\n",
            "Episode 107: score 108 (exploration rate: 0.01, transitions: 2776)\n",
            "Episode 108: score 129 (exploration rate: 0.01, transitions: 2905)\n",
            "Episode 109: score 152 (exploration rate: 0.01, transitions: 3057)\n",
            "Episode 110: score 166 (exploration rate: 0.01, transitions: 3223)\n",
            "Episode 111: score 146 (exploration rate: 0.01, transitions: 3369)\n",
            "Episode 112: score 200 (exploration rate: 0.01, transitions: 3569)\n",
            "Reached goal sucessfully.\n",
            "Time: 8 minutes\n"
          ]
        },
        {
          "output_type": "display_data",
          "data": {
            "image/png": "[encoded data removed]",
            "text/plain": [
              "<Figure size 432x288 with 1 Axes>"
            ]
          },
          "metadata": {
            "needs_background": "light"
          }
        }
      ]
    }
  ]
}